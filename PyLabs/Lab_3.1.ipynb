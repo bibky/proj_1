{
 "cells": [
  {
   "cell_type": "code",
   "execution_count": null,
   "id": "23876e54",
   "metadata": {},
   "outputs": [
    {
     "name": "stdout",
     "output_type": "stream",
     "text": [
      "Файл не найден!\n",
      "На ноль делить нельзя!\n",
      "Ответ:0.375\n"
     ]
    }
   ],
   "source": [
    "try:\n",
    "    a = 3 \n",
    "    b = gh\n",
    "    operation = '/'\n",
    "except NameError:\n",
    "    print(\"Файл не найден!\")\n",
    "except ValueError:\n",
    "    print(\"Содержимое файла не является числом!\")\n",
    "try:\n",
    "    if operation == '*':\n",
    "        answer = a*b\n",
    "    elif operation == '+':\n",
    "        answer = a+b\n",
    "    elif operation == '-':\n",
    "        answer = a-b\n",
    "    elif operation == '/':\n",
    "        answer = a/b # comm\n",
    "except ZeroDivisionError:\n",
    "    print(\"На ноль делить нельзя!\")\n",
    "except Exception as e:\n",
    "    print(\"Неизвестная ошибка\")\n",
    "print(f'Ответ:{answer}')"
   ]
  },
  {
   "cell_type": "code",
   "execution_count": null,
   "id": "0ad93e1e",
   "metadata": {},
   "outputs": [],
   "source": []
  }
 ],
 "metadata": {
  "kernelspec": {
   "display_name": "Python 3",
   "language": "python",
   "name": "python3"
  },
  "language_info": {
   "codemirror_mode": {
    "name": "ipython",
    "version": 3
   },
   "file_extension": ".py",
   "mimetype": "text/x-python",
   "name": "python",
   "nbconvert_exporter": "python",
   "pygments_lexer": "ipython3",
   "version": "3.9.6"
  }
 },
 "nbformat": 4,
 "nbformat_minor": 5
}
