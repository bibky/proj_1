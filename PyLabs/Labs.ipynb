{
 "cells": [
  {
   "cell_type": "code",
   "execution_count": 7,
   "id": "c03bb6f1",
   "metadata": {},
   "outputs": [
    {
     "name": "stdout",
     "output_type": "stream",
     "text": [
      "True\n"
     ]
    }
   ],
   "source": [
    "my_list = [1, 2, 3]\n",
    "another_list = []\n",
    "other_list = []\n",
    "print(bool(other_list or my_list or another_list))"
   ]
  },
  {
   "cell_type": "code",
   "execution_count": null,
   "id": "ab554d3b",
   "metadata": {},
   "outputs": [],
   "source": [
    "len(my_list) > 0 and do"
   ]
  },
  {
   "cell_type": "markdown",
   "id": "d8d1852a",
   "metadata": {},
   "source": [
    "my_car = {'name' : 'toyota',\n",
    "          'model' : 'Highlander',\n",
    "          'year' : '2024,\n",
    "          }\n",
    "if not my_car['year']:\n",
    "    print('no year info')\n",
    "else:\n",
    "    print(my_car['year'])"
   ]
  },
  {
   "cell_type": "code",
   "execution_count": 13,
   "id": "1ac153c1",
   "metadata": {},
   "outputs": [
    {
     "ename": "KeyError",
     "evalue": "'year'",
     "output_type": "error",
     "traceback": [
      "\u001b[0;31m---------------------------------------------------------------------------\u001b[0m",
      "\u001b[0;31mKeyError\u001b[0m                                  Traceback (most recent call last)",
      "Cell \u001b[0;32mIn[13], line 5\u001b[0m\n\u001b[1;32m      1\u001b[0m my_car \u001b[38;5;241m=\u001b[39m {\u001b[38;5;124m'\u001b[39m\u001b[38;5;124mname\u001b[39m\u001b[38;5;124m'\u001b[39m : \u001b[38;5;124m'\u001b[39m\u001b[38;5;124mtoyota\u001b[39m\u001b[38;5;124m'\u001b[39m,\n\u001b[1;32m      2\u001b[0m           \u001b[38;5;124m'\u001b[39m\u001b[38;5;124mmodel\u001b[39m\u001b[38;5;124m'\u001b[39m : \u001b[38;5;124m'\u001b[39m\u001b[38;5;124mHighlander\u001b[39m\u001b[38;5;124m'\u001b[39m,\n\u001b[1;32m      3\u001b[0m           \u001b[38;5;66;03m#'year' : 2024,\u001b[39;00m\n\u001b[1;32m      4\u001b[0m           }\n\u001b[0;32m----> 5\u001b[0m \u001b[38;5;28;01mif\u001b[39;00m \u001b[38;5;129;01mnot\u001b[39;00m my_car[\u001b[38;5;124m'\u001b[39m\u001b[38;5;124myear\u001b[39m\u001b[38;5;124m'\u001b[39m]:\n\u001b[1;32m      6\u001b[0m     \u001b[38;5;28mprint\u001b[39m(\u001b[38;5;124m'\u001b[39m\u001b[38;5;124mno year info\u001b[39m\u001b[38;5;124m'\u001b[39m)\n\u001b[1;32m      7\u001b[0m \u001b[38;5;28;01melse\u001b[39;00m:\n",
      "\u001b[0;31mKeyError\u001b[0m: 'year'"
     ]
    }
   ],
   "source": [
    "my_car = {'name' : 'toyota',\n",
    "          'model' : 'Highlander',\n",
    "          #'year' : 2024,\n",
    "          }\n",
    "if not my_car['year']:\n",
    "    print('no year info')\n",
    "else:\n",
    "    print(my_car['year'])"
   ]
  },
  {
   "cell_type": "code",
   "execution_count": 18,
   "id": "7cf09c49",
   "metadata": {},
   "outputs": [
    {
     "name": "stdout",
     "output_type": "stream",
     "text": [
      "Целое\n"
     ]
    }
   ],
   "source": [
    "def func(a):\n",
    "    if type(a) is int: #можно использовать is\n",
    "        return('Целое')\n",
    "    else:\n",
    "        return('not int')\n",
    "print(func(4))"
   ]
  },
  {
   "cell_type": "code",
   "execution_count": 43,
   "id": "b440ec1e",
   "metadata": {},
   "outputs": [
    {
     "name": "stdout",
     "output_type": "stream",
     "text": [
      "3.9, 2.7 - are not integer\n"
     ]
    }
   ],
   "source": [
    "def func(a, b):\n",
    "    if type(a) is int and type(b) is int: #можно использовать ==\n",
    "        res = (a+b)\n",
    "    elif type(a) is int and type(b) is not int:\n",
    "        res = (f\"{a}, {b} - are not integer\")\n",
    "    elif type(a) is not int and type(b) is int:\n",
    "        res = (f\"{a} - are not integer\")\n",
    "    else:\n",
    "        res = (f\"{a}, {b} - are not integer\")\n",
    "    return res\n",
    "print(func(3.9, 2.7))\n",
    "\n",
    "#print(bool(type(a)) is int)\n",
    "#print(bool(type(a)) == int)\n",
    "#print(isinstance(bool(type(a)), int))"
   ]
  },
  {
   "cell_type": "code",
   "execution_count": 33,
   "id": "aaf4f68e",
   "metadata": {},
   "outputs": [
    {
     "name": "stdout",
     "output_type": "stream",
     "text": [
      "0\n"
     ]
    }
   ],
   "source": [
    "a, b = 0, 4\n",
    "print (a and type(b))"
   ]
  },
  {
   "cell_type": "code",
   "execution_count": 45,
   "id": "702951a6",
   "metadata": {},
   "outputs": [
    {
     "name": "stdout",
     "output_type": "stream",
     "text": [
      "long str\n"
     ]
    }
   ],
   "source": [
    "stroka  = '138726276376903'\n",
    "res = 'long str' if len(stroka) >= 10 else 'short str'\n",
    "print(res)"
   ]
  },
  {
   "cell_type": "code",
   "execution_count": 13,
   "id": "c00a6258",
   "metadata": {},
   "outputs": [
    {
     "name": "stdout",
     "output_type": "stream",
     "text": [
      "2\n",
      "6\n",
      "4\n",
      "3\n",
      "False\n",
      "hi\n"
     ]
    }
   ],
   "source": [
    "set = [2, 6, 4, 3, False, 'hi']\n",
    "for i in set:\n",
    "    print(i)"
   ]
  },
  {
   "cell_type": "code",
   "execution_count": 53,
   "id": "5de664f0",
   "metadata": {},
   "outputs": [
    {
     "name": "stdout",
     "output_type": "stream",
     "text": [
      "0\n",
      "1\n",
      "2\n",
      "3\n",
      "4\n",
      "5\n",
      "6\n"
     ]
    }
   ],
   "source": [
    "for i in range(7):\n",
    "    print(i)"
   ]
  },
  {
   "cell_type": "code",
   "execution_count": 54,
   "id": "ee289173",
   "metadata": {},
   "outputs": [
    {
     "name": "stdout",
     "output_type": "stream",
     "text": [
      "dict_items([('key_1', 'hello'), ('key_2', 'world')])\n"
     ]
    }
   ],
   "source": [
    "my_dict = {'key_1':'hello', 'key_2':'world'}\n",
    "print(my_dict.items())"
   ]
  },
  {
   "cell_type": "code",
   "execution_count": 61,
   "id": "ad19374f",
   "metadata": {},
   "outputs": [
    {
     "name": "stdout",
     "output_type": "stream",
     "text": [
      "key_1 hello\n",
      "key_2 world\n",
      "('key_2', 'world')\n"
     ]
    }
   ],
   "source": [
    "\n",
    "for el in my_dict.items():\n",
    "    k,v = el\n",
    "    print(k,v)\n",
    "print(el)"
   ]
  },
  {
   "cell_type": "code",
   "execution_count": 62,
   "id": "467c121f",
   "metadata": {},
   "outputs": [
    {
     "name": "stdout",
     "output_type": "stream",
     "text": [
      "key_1 hello\n",
      "key_2 world\n"
     ]
    }
   ],
   "source": [
    "for k,v in my_dict.items():\n",
    "    print(k,v)\n"
   ]
  },
  {
   "cell_type": "code",
   "execution_count": 28,
   "id": "1b2a0796",
   "metadata": {},
   "outputs": [
    {
     "name": "stdout",
     "output_type": "stream",
     "text": [
      "Введите целое числоkl\n",
      "Введите целое число9\n"
     ]
    },
    {
     "ename": "KeyboardInterrupt",
     "evalue": "Interrupted by user",
     "output_type": "error",
     "traceback": [
      "\u001b[0;31m---------------------------------------------------------------------------\u001b[0m",
      "\u001b[0;31mKeyboardInterrupt\u001b[0m                         Traceback (most recent call last)",
      "Cell \u001b[0;32mIn[28], line 2\u001b[0m\n\u001b[1;32m      1\u001b[0m \u001b[38;5;28;01mwhile\u001b[39;00m \u001b[38;5;28;01mTrue\u001b[39;00m:\n\u001b[0;32m----> 2\u001b[0m     a \u001b[38;5;241m=\u001b[39m \u001b[38;5;28minput\u001b[39m(\u001b[38;5;124m'\u001b[39m\u001b[38;5;124mВведите целое число\u001b[39m\u001b[38;5;124m'\u001b[39m)\n\u001b[1;32m      3\u001b[0m     \u001b[38;5;28;01mfor\u001b[39;00m i \u001b[38;5;129;01min\u001b[39;00m a:\n\u001b[1;32m      4\u001b[0m         \u001b[38;5;28;01mfor\u001b[39;00m j \u001b[38;5;129;01min\u001b[39;00m \u001b[38;5;28mstr\u001b[39m(\u001b[38;5;28mrange\u001b[39m(\u001b[38;5;241m10\u001b[39m)):\n",
      "File \u001b[0;32m~/anaconda3/lib/python3.11/site-packages/ipykernel/kernelbase.py:1202\u001b[0m, in \u001b[0;36mKernel.raw_input\u001b[0;34m(self, prompt)\u001b[0m\n\u001b[1;32m   1200\u001b[0m     msg \u001b[38;5;241m=\u001b[39m \u001b[38;5;124m\"\u001b[39m\u001b[38;5;124mraw_input was called, but this frontend does not support input requests.\u001b[39m\u001b[38;5;124m\"\u001b[39m\n\u001b[1;32m   1201\u001b[0m     \u001b[38;5;28;01mraise\u001b[39;00m StdinNotImplementedError(msg)\n\u001b[0;32m-> 1202\u001b[0m \u001b[38;5;28;01mreturn\u001b[39;00m \u001b[38;5;28mself\u001b[39m\u001b[38;5;241m.\u001b[39m_input_request(\n\u001b[1;32m   1203\u001b[0m     \u001b[38;5;28mstr\u001b[39m(prompt),\n\u001b[1;32m   1204\u001b[0m     \u001b[38;5;28mself\u001b[39m\u001b[38;5;241m.\u001b[39m_parent_ident[\u001b[38;5;124m\"\u001b[39m\u001b[38;5;124mshell\u001b[39m\u001b[38;5;124m\"\u001b[39m],\n\u001b[1;32m   1205\u001b[0m     \u001b[38;5;28mself\u001b[39m\u001b[38;5;241m.\u001b[39mget_parent(\u001b[38;5;124m\"\u001b[39m\u001b[38;5;124mshell\u001b[39m\u001b[38;5;124m\"\u001b[39m),\n\u001b[1;32m   1206\u001b[0m     password\u001b[38;5;241m=\u001b[39m\u001b[38;5;28;01mFalse\u001b[39;00m,\n\u001b[1;32m   1207\u001b[0m )\n",
      "File \u001b[0;32m~/anaconda3/lib/python3.11/site-packages/ipykernel/kernelbase.py:1245\u001b[0m, in \u001b[0;36mKernel._input_request\u001b[0;34m(self, prompt, ident, parent, password)\u001b[0m\n\u001b[1;32m   1242\u001b[0m \u001b[38;5;28;01mexcept\u001b[39;00m \u001b[38;5;167;01mKeyboardInterrupt\u001b[39;00m:\n\u001b[1;32m   1243\u001b[0m     \u001b[38;5;66;03m# re-raise KeyboardInterrupt, to truncate traceback\u001b[39;00m\n\u001b[1;32m   1244\u001b[0m     msg \u001b[38;5;241m=\u001b[39m \u001b[38;5;124m\"\u001b[39m\u001b[38;5;124mInterrupted by user\u001b[39m\u001b[38;5;124m\"\u001b[39m\n\u001b[0;32m-> 1245\u001b[0m     \u001b[38;5;28;01mraise\u001b[39;00m \u001b[38;5;167;01mKeyboardInterrupt\u001b[39;00m(msg) \u001b[38;5;28;01mfrom\u001b[39;00m \u001b[38;5;28;01mNone\u001b[39;00m\n\u001b[1;32m   1246\u001b[0m \u001b[38;5;28;01mexcept\u001b[39;00m \u001b[38;5;167;01mException\u001b[39;00m:\n\u001b[1;32m   1247\u001b[0m     \u001b[38;5;28mself\u001b[39m\u001b[38;5;241m.\u001b[39mlog\u001b[38;5;241m.\u001b[39mwarning(\u001b[38;5;124m\"\u001b[39m\u001b[38;5;124mInvalid Message:\u001b[39m\u001b[38;5;124m\"\u001b[39m, exc_info\u001b[38;5;241m=\u001b[39m\u001b[38;5;28;01mTrue\u001b[39;00m)\n",
      "\u001b[0;31mKeyboardInterrupt\u001b[0m: Interrupted by user"
     ]
    }
   ],
   "source": [
    "while True:\n",
    "    a = input('Введите целое число')\n",
    "    for i in a:\n",
    "        for j in str(range(10)):\n",
    "            if i == j:\n",
    "                break\n",
    "            break\n",
    "        break\n",
    "   \n",
    "\n",
    "    "
   ]
  },
  {
   "cell_type": "code",
   "execution_count": 21,
   "id": "1d84a2d5",
   "metadata": {},
   "outputs": [
    {
     "name": "stdout",
     "output_type": "stream",
     "text": [
      "Введите целое число57tg\n"
     ]
    }
   ],
   "source": [
    "while True:\n",
    "    a = input('Введите целое число')\n",
    "    if a is True:\n",
    "        break\n",
    "    break"
   ]
  },
  {
   "cell_type": "code",
   "execution_count": 20,
   "id": "db96e0e6",
   "metadata": {},
   "outputs": [
    {
     "ename": "ZeroDivisionError",
     "evalue": "division by zero",
     "output_type": "error",
     "traceback": [
      "\u001b[0;31m---------------------------------------------------------------------------\u001b[0m",
      "\u001b[0;31mZeroDivisionError\u001b[0m                         Traceback (most recent call last)",
      "Cell \u001b[0;32mIn[20], line 3\u001b[0m\n\u001b[1;32m      1\u001b[0m a, b \u001b[38;5;241m=\u001b[39m \u001b[38;5;241m5\u001b[39m, \u001b[38;5;241m0\u001b[39m\n\u001b[1;32m      2\u001b[0m \u001b[38;5;28;01mtry\u001b[39;00m:\n\u001b[0;32m----> 3\u001b[0m     \u001b[38;5;28mprint\u001b[39m(a\u001b[38;5;241m/\u001b[39mb)\n\u001b[1;32m      4\u001b[0m \u001b[38;5;28;01mexcept\u001b[39;00m \u001b[38;5;167;01mTypeError\u001b[39;00m \u001b[38;5;28;01mas\u001b[39;00m e:\n\u001b[1;32m      5\u001b[0m     \u001b[38;5;28mprint\u001b[39m(\u001b[38;5;28mtype\u001b[39m(e), e)\n",
      "\u001b[0;31mZeroDivisionError\u001b[0m: division by zero"
     ]
    }
   ],
   "source": [
    "a, b = 5, 0\n",
    "try:\n",
    "    print(a/b)\n",
    "except TypeError as e:\n",
    "    print(type(e), e)\n"
   ]
  },
  {
   "cell_type": "code",
   "execution_count": 28,
   "id": "b9ec68a4",
   "metadata": {},
   "outputs": [
    {
     "name": "stdout",
     "output_type": "stream",
     "text": [
      "Введите целое числоuu\n",
      "Некорректный тип данных!!!!\n",
      "Введите целое число77\n",
      "77\n"
     ]
    }
   ],
   "source": [
    "while True:\n",
    "    a = input('Введите целое число')\n",
    "    try:\n",
    "        print(int(a))\n",
    "    except ValueError:\n",
    "        print('Некорректный тип данных!!!!')\n",
    "        continue\n",
    "    break"
   ]
  },
  {
   "cell_type": "code",
   "execution_count": 24,
   "id": "8797df01",
   "metadata": {},
   "outputs": [
    {
     "name": "stdout",
     "output_type": "stream",
     "text": [
      "Введите целое числоd7\n",
      "Некорректный тип данных!!!!\n",
      "Попробуйте еще раз\n",
      "Введите целое число8\n",
      "8\n"
     ]
    }
   ],
   "source": [
    "while True:\n",
    "    a = input('Введите целое число')\n",
    "    try:\n",
    "        print(int(a))\n",
    "    except ValueError:\n",
    "        print('Некорректный тип данных!!!!')\n",
    "        print('Попробуйте еще раз')\n",
    "        continue\n",
    "    break"
   ]
  },
  {
   "cell_type": "code",
   "execution_count": 30,
   "id": "06a09dad",
   "metadata": {},
   "outputs": [
    {
     "name": "stdout",
     "output_type": "stream",
     "text": [
      "Введите целое числоdjh\n",
      "Некорректный тип данных!!!!\n",
      "Попробуйте еще раз\n",
      "Введите целое число89\n",
      "89\n"
     ]
    }
   ],
   "source": [
    "while True:\n",
    "    a = input('Введите целое число')\n",
    "    try:\n",
    "        print(int(a))\n",
    "    except Exception as e:\n",
    "        print('Некорректный тип данных!!!!')\n",
    "        print('Попробуйте еще раз')\n",
    "        continue\n",
    "    break"
   ]
  },
  {
   "cell_type": "code",
   "execution_count": 38,
   "id": "56a9a42c",
   "metadata": {},
   "outputs": [
    {
     "name": "stdout",
     "output_type": "stream",
     "text": [
      "<class 'TypeError'> ('donot devide by', 0)\n"
     ]
    }
   ],
   "source": [
    "def divide_nums(a,b):\n",
    "    if b == 0:\n",
    "        raise TypeError('donot devide by',b)\n",
    "    return a/b\n",
    "try:\n",
    "    print(divide_nums(1,0))\n",
    "except TypeError as e:\n",
    "    print(type(e), e)\n",
    "except ZeroDivisionError as e:\n",
    "    print(e)"
   ]
  },
  {
   "cell_type": "code",
   "execution_count": 46,
   "id": "3d0fc3fb",
   "metadata": {},
   "outputs": [
    {
     "ename": "TypeError",
     "evalue": "'>=' not supported between instances of 'str' and 'int'",
     "output_type": "error",
     "traceback": [
      "\u001b[0;31m---------------------------------------------------------------------------\u001b[0m",
      "\u001b[0;31mTypeError\u001b[0m                                 Traceback (most recent call last)",
      "Cell \u001b[0;32mIn[46], line 2\u001b[0m\n\u001b[1;32m      1\u001b[0m my_list \u001b[38;5;241m=\u001b[39m [\u001b[38;5;241m0\u001b[39m, \u001b[38;5;241m5\u001b[39m, \u001b[38;5;241m1\u001b[39m, \u001b[38;5;241m2\u001b[39m, \u001b[38;5;241m-\u001b[39m\u001b[38;5;241m2\u001b[39m, \u001b[38;5;241m-\u001b[39m\u001b[38;5;241m5\u001b[39m, \u001b[38;5;241m-\u001b[39m\u001b[38;5;241m3\u001b[39m, \u001b[38;5;241m7\u001b[39m, \u001b[38;5;124m'\u001b[39m\u001b[38;5;124msej\u001b[39m\u001b[38;5;124m'\u001b[39m]\n\u001b[0;32m----> 2\u001b[0m your_list \u001b[38;5;241m=\u001b[39m [el\u001b[38;5;241m*\u001b[39m\u001b[38;5;241m*\u001b[39m\u001b[38;5;241m2\u001b[39m \u001b[38;5;28;01mfor\u001b[39;00m el \u001b[38;5;129;01min\u001b[39;00m my_list \u001b[38;5;28;01mif\u001b[39;00m el \u001b[38;5;241m>\u001b[39m\u001b[38;5;241m=\u001b[39m\u001b[38;5;241m0\u001b[39m]\n\u001b[1;32m      3\u001b[0m \u001b[38;5;28mprint\u001b[39m(your_list)\n",
      "Cell \u001b[0;32mIn[46], line 2\u001b[0m, in \u001b[0;36m<listcomp>\u001b[0;34m(.0)\u001b[0m\n\u001b[1;32m      1\u001b[0m my_list \u001b[38;5;241m=\u001b[39m [\u001b[38;5;241m0\u001b[39m, \u001b[38;5;241m5\u001b[39m, \u001b[38;5;241m1\u001b[39m, \u001b[38;5;241m2\u001b[39m, \u001b[38;5;241m-\u001b[39m\u001b[38;5;241m2\u001b[39m, \u001b[38;5;241m-\u001b[39m\u001b[38;5;241m5\u001b[39m, \u001b[38;5;241m-\u001b[39m\u001b[38;5;241m3\u001b[39m, \u001b[38;5;241m7\u001b[39m, \u001b[38;5;124m'\u001b[39m\u001b[38;5;124msej\u001b[39m\u001b[38;5;124m'\u001b[39m]\n\u001b[0;32m----> 2\u001b[0m your_list \u001b[38;5;241m=\u001b[39m [el\u001b[38;5;241m*\u001b[39m\u001b[38;5;241m*\u001b[39m\u001b[38;5;241m2\u001b[39m \u001b[38;5;28;01mfor\u001b[39;00m el \u001b[38;5;129;01min\u001b[39;00m my_list \u001b[38;5;28;01mif\u001b[39;00m el \u001b[38;5;241m>\u001b[39m\u001b[38;5;241m=\u001b[39m\u001b[38;5;241m0\u001b[39m]\n\u001b[1;32m      3\u001b[0m \u001b[38;5;28mprint\u001b[39m(your_list)\n",
      "\u001b[0;31mTypeError\u001b[0m: '>=' not supported between instances of 'str' and 'int'"
     ]
    }
   ],
   "source": [
    "my_list = [0, 5, 1, 2, -2, -5, -3, 7, 'sej']\n",
    "your_list = [el**2 for el in my_list if el >=0]\n",
    "print(your_list)"
   ]
  },
  {
   "cell_type": "code",
   "execution_count": 47,
   "id": "c0623176",
   "metadata": {},
   "outputs": [
    {
     "ename": "ZeroDivisionError",
     "evalue": "division by zero",
     "output_type": "error",
     "traceback": [
      "\u001b[0;31m---------------------------------------------------------------------------\u001b[0m",
      "\u001b[0;31mZeroDivisionError\u001b[0m                         Traceback (most recent call last)",
      "Cell \u001b[0;32mIn[47], line 1\u001b[0m\n\u001b[0;32m----> 1\u001b[0m \u001b[38;5;28;01massert\u001b[39;00m \u001b[38;5;241m5\u001b[39m\u001b[38;5;241m/\u001b[39m\u001b[38;5;241m0\u001b[39m, \u001b[38;5;28;01mFalse\u001b[39;00m\n",
      "\u001b[0;31mZeroDivisionError\u001b[0m: division by zero"
     ]
    }
   ],
   "source": [
    "assert 5/0, False"
   ]
  },
  {
   "cell_type": "code",
   "execution_count": 48,
   "id": "b62ac418",
   "metadata": {},
   "outputs": [
    {
     "ename": "SyntaxError",
     "evalue": "invalid syntax (3926837683.py, line 1)",
     "output_type": "error",
     "traceback": [
      "\u001b[0;36m  Cell \u001b[0;32mIn[48], line 1\u001b[0;36m\u001b[0m\n\u001b[0;31m    help(assert)\u001b[0m\n\u001b[0m         ^\u001b[0m\n\u001b[0;31mSyntaxError\u001b[0m\u001b[0;31m:\u001b[0m invalid syntax\n"
     ]
    }
   ],
   "source": [
    "help(assert)"
   ]
  },
  {
   "cell_type": "code",
   "execution_count": 1,
   "id": "aad58c6c",
   "metadata": {},
   "outputs": [
    {
     "ename": "NameError",
     "evalue": "name 'git' is not defined",
     "output_type": "error",
     "traceback": [
      "\u001b[0;31m---------------------------------------------------------------------------\u001b[0m",
      "\u001b[0;31mNameError\u001b[0m                                 Traceback (most recent call last)",
      "Cell \u001b[0;32mIn[1], line 1\u001b[0m\n\u001b[0;32m----> 1\u001b[0m git \u001b[38;5;241m-\u001b[39m\u001b[38;5;241m-\u001b[39mversion\n",
      "\u001b[0;31mNameError\u001b[0m: name 'git' is not defined"
     ]
    }
   ],
   "source": [
    "\n"
   ]
  },
  {
   "cell_type": "code",
   "execution_count": 21,
   "id": "940aac7d",
   "metadata": {},
   "outputs": [
    {
     "name": "stdout",
     "output_type": "stream",
     "text": [
      "Ошибка: Введите целое число! invalid literal for int() with base 10: 'hj'\n"
     ]
    },
    {
     "data": {
      "text/plain": [
       "'hj'"
      ]
     },
     "execution_count": 21,
     "metadata": {},
     "output_type": "execute_result"
    }
   ],
   "source": [
    "#Придумать программу, которая бы переводила оценку по 100-балльной системе в A (90-100), B (80-89), C (70-79), D (60-69), F(0-59)\n",
    "\n",
    "def marks (a): \n",
    "    try:\n",
    "        a = int(a)  # Пытаемся преобразовать в целое число\n",
    "    except Exception as e:\n",
    "        print('Ошибка: Введите целое число!', e) \n",
    "        return a\n",
    "    assert 0 <= a <= 100, \"Оценка должна быть от 0 до 100\"\n",
    "    if 90 <= a <= 100:\n",
    "        print('Оценка A')\n",
    "    elif 80 <= a <= 89:\n",
    "        print('Оценка B')\n",
    "    elif 70 <= a <= 79:\n",
    "        print('Оценка A')\n",
    "    elif 60 <= a <= 69:\n",
    "        print('Оценка A')\n",
    "    elif 0 <= a <= 59:\n",
    "        print('Оценка F')\n",
    "    else:\n",
    "        print('Ведите оценку от 0 до 100!')    \n",
    "marks('hj')\n"
   ]
  },
  {
   "cell_type": "code",
   "execution_count": 39,
   "id": "2cf7a36a",
   "metadata": {},
   "outputs": [
    {
     "data": {
      "text/plain": [
       "'Год високосный'"
      ]
     },
     "execution_count": 39,
     "metadata": {},
     "output_type": "execute_result"
    }
   ],
   "source": [
    "#Создайте функцию, которая определяет, является ли год високосным. Год високосный, если - Он делится на 4, но не на 100, ИЛИ Он делится на 400\n",
    "def leap_years(year):\n",
    "    res = 'Год високосный' if ((year % 4 == 0 and year % 100 != 0) or year % 400 == 0) else 'Год обычный'\n",
    "    return res\n",
    "\n",
    "leap_years(2024)\n"
   ]
  },
  {
   "cell_type": "code",
   "execution_count": 53,
   "id": "815afe38",
   "metadata": {},
   "outputs": [
    {
     "name": "stdout",
     "output_type": "stream",
     "text": [
      "Введите длину стороны a7\n",
      "Введите длину стороны b8\n",
      "Введите длину стороны c9\n",
      "Треугольник разносторонний\n"
     ]
    }
   ],
   "source": [
    "#Задание 1.3: Классификация треугольников. Напишите программу, которая по трем сторонам треугольника определяет его тип\n",
    "def triangle ():\n",
    "    a = int(input('Введите длину стороны a'))\n",
    "    b = int(input('Введите длину стороны b'))\n",
    "    c = int(input('Введите длину стороны c'))\n",
    "    if a == b == c:\n",
    "        print('Треугольник равносторонний')\n",
    "    elif a == b or b == c or c == a:\n",
    "        print('Треугольник равнобедренный')\n",
    "    elif ((a + b > c) and (a + c > b) and (b + c > a)):\n",
    "        print('Треугольник разносторонний')\n",
    "    else:\n",
    "        print('Не является треугольником (сумма двух сторон меньше третьей)')\n",
    "triangle()\n",
    "    "
   ]
  },
  {
   "cell_type": "code",
   "execution_count": 58,
   "id": "a020a648",
   "metadata": {},
   "outputs": [
    {
     "name": "stdout",
     "output_type": "stream",
     "text": [
      "[[1, 2, 3, 4, 5, 6, 7, 8, 9, 10], [2, 4, 6, 8, 10, 12, 14, 16, 18, 20], [3, 6, 9, 12, 15, 18, 21, 24, 27, 30], [4, 8, 12, 16, 20, 24, 28, 32, 36, 40], [5, 10, 15, 20, 25, 30, 35, 40, 45, 50], [6, 12, 18, 24, 30, 36, 42, 48, 54, 60], [7, 14, 21, 28, 35, 42, 49, 56, 63, 70], [8, 16, 24, 32, 40, 48, 56, 64, 72, 80], [9, 18, 27, 36, 45, 54, 63, 72, 81, 90], [10, 20, 30, 40, 50, 60, 70, 80, 90, 100]]\n"
     ]
    }
   ],
   "source": [
    "#Задание 2.1: Таблица умножения. Создайте программу, которая выводит таблицу умножения от 1 до 10\n",
    "multiplication_table = []\n",
    "for i in range(1, 11):\n",
    "    row = []\n",
    "    for j in range(1, 11):\n",
    "        row.append(i*j)\n",
    "    multiplication_table.append(row)\n",
    "print(multiplication_table)        \n",
    "        \n",
    "        "
   ]
  },
  {
   "cell_type": "code",
   "execution_count": 85,
   "id": "4bd9d46a",
   "metadata": {},
   "outputs": [
    {
     "name": "stdout",
     "output_type": "stream",
     "text": [
      "[]\n"
     ]
    }
   ],
   "source": [
    "#Задание 2.2: Поиск простых чисел. Напишите функцию, которая находит все простые числа от 2 до заданного числа n. Используйте цикл for и проверку делимости\"\n",
    "lst = []\n",
    "def prime_numbers(n):\n",
    "    for i in range(2, n+1):\n",
    "        for j in range(2, i):\n",
    "            if i % j == 0:\n",
    "                break\n",
    "        else:\n",
    "            lst.append(i)\n",
    "print(lst)                \n",
    "prime_numbers(7)"
   ]
  },
  {
   "cell_type": "code",
   "execution_count": 89,
   "id": "215f9263",
   "metadata": {},
   "outputs": [
    {
     "name": "stdout",
     "output_type": "stream",
     "text": [
      "[]\n"
     ]
    }
   ],
   "source": [
    "n = 0\n",
    "lst = []\n",
    "# в k будем хранить количество делителей\n",
    "k = 0\n",
    "# пробегаем все числа от 2 до N\n",
    "for i in range(2, n+1):\n",
    "    # пробегаем все числа от 2 до текущего\n",
    "    for j in range(2, i):\n",
    "        # ищем количество делителей\n",
    "        if i % j == 0:\n",
    "            k = k + 1\n",
    "    # если делителей нет, добавляем число в список\n",
    "    if k == 0:\n",
    "        lst.append(i)\n",
    "    else:\n",
    "        k = 0\n",
    "# выводим на экран список\n",
    "print(lst)"
   ]
  },
  {
   "cell_type": "code",
   "execution_count": null,
   "id": "598936d4",
   "metadata": {},
   "outputs": [],
   "source": []
  }
 ],
 "metadata": {
  "kernelspec": {
   "display_name": "Python 3 (ipykernel)",
   "language": "python",
   "name": "python3"
  },
  "language_info": {
   "codemirror_mode": {
    "name": "ipython",
    "version": 3
   },
   "file_extension": ".py",
   "mimetype": "text/x-python",
   "name": "python",
   "nbconvert_exporter": "python",
   "pygments_lexer": "ipython3",
   "version": "3.11.5"
  }
 },
 "nbformat": 4,
 "nbformat_minor": 5
}
