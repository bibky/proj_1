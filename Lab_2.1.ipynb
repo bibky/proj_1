{
 "cells": [
  {
   "cell_type": "code",
   "execution_count": null,
   "id": "87a3258e",
   "metadata": {},
   "outputs": [],
   "source": [
    "#Задание 2.1: Таблица умножения. Создайте программу, которая выводит таблицу умножения от 1 до 10\n",
    "multiplication_table = []\n",
    "for i in range(1, 11):\n",
    "    row = []\n",
    "    for j in range(1, 11):\n",
    "        row.append(i*j)\n",
    "    multiplication_table.append(row)\n",
    "print(multiplication_table)  "
   ]
  }
 ],
 "metadata": {
  "kernelspec": {
   "display_name": "Python 3 (ipykernel)",
   "language": "python",
   "name": "python3"
  },
  "language_info": {
   "codemirror_mode": {
    "name": "ipython",
    "version": 3
   },
   "file_extension": ".py",
   "mimetype": "text/x-python",
   "name": "python",
   "nbconvert_exporter": "python",
   "pygments_lexer": "ipython3",
   "version": "3.11.5"
  }
 },
 "nbformat": 4,
 "nbformat_minor": 5
}
