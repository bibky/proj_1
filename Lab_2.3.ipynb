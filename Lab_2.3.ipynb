{
 "cells": [
  {
   "cell_type": "code",
   "execution_count": 3,
   "id": "b6f82a65",
   "metadata": {},
   "outputs": [],
   "source": [
    "\n",
    "import random\n",
    "from random import randint\n"
   ]
  },
  {
   "cell_type": "code",
   "execution_count": 5,
   "id": "c62b8b78",
   "metadata": {},
   "outputs": [
    {
     "name": "stdout",
     "output_type": "stream",
     "text": [
      "Вы угадали число\n"
     ]
    }
   ],
   "source": [
    "def rand():\n",
    "    num = random.randint(1, 100)\n",
    "    a = int(input('Попробуйте угадать число'))\n",
    "    while a != num:\n",
    "        if a > num:\n",
    "            a = int(input('Загаданное число меньше'))\n",
    "        elif a < num:\n",
    "            a = int(input('Загаданное число больше'))\n",
    "    print('Вы угадали число')\n",
    "rand()"
   ]
  }
 ],
 "metadata": {
  "kernelspec": {
   "display_name": "Tensorflow",
   "language": "python",
   "name": "python3"
  },
  "language_info": {
   "codemirror_mode": {
    "name": "ipython",
    "version": 3
   },
   "file_extension": ".py",
   "mimetype": "text/x-python",
   "name": "python",
   "nbconvert_exporter": "python",
   "pygments_lexer": "ipython3",
   "version": "3.11.5"
  }
 },
 "nbformat": 4,
 "nbformat_minor": 5
}
