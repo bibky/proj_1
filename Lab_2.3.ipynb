{
 "cells": [
  {
   "cell_type": "code",
   "execution_count": null,
   "id": "1abb882a",
   "metadata": {},
   "outputs": [],
   "source": [
    "n = 0\n",
    "lst = []\n",
    "# в k будем хранить количество делителей\n",
    "k = 0\n",
    "# пробегаем все числа от 2 до N\n",
    "for i in range(2, n+1):\n",
    "    # пробегаем все числа от 2 до текущего\n",
    "    for j in range(2, i):\n",
    "        # ищем количество делителей\n",
    "        if i % j == 0:\n",
    "            k = k + 1\n",
    "    # если делителей нет, добавляем число в список\n",
    "    if k == 0:\n",
    "        lst.append(i)\n",
    "    else:\n",
    "        k = 0\n",
    "# выводим на экран список\n",
    "print(lst)"
   ]
  }
 ],
 "metadata": {
  "kernelspec": {
   "display_name": "Python 3 (ipykernel)",
   "language": "python",
   "name": "python3"
  },
  "language_info": {
   "codemirror_mode": {
    "name": "ipython",
    "version": 3
   },
   "file_extension": ".py",
   "mimetype": "text/x-python",
   "name": "python",
   "nbconvert_exporter": "python",
   "pygments_lexer": "ipython3",
   "version": "3.11.5"
  }
 },
 "nbformat": 4,
 "nbformat_minor": 5
}
