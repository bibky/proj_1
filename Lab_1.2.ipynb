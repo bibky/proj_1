{
 "cells": [
  {
   "cell_type": "code",
   "execution_count": null,
   "id": "453a84b9",
   "metadata": {},
   "outputs": [],
   "source": [
    "#Создайте функцию, которая определяет, является ли год високосным. Год високосный, если - Он делится на 4, но не на 100, ИЛИ Он делится на 400\n",
    "def leap_years(year):\n",
    "    res = 'Год високосный' if ((year % 4 == 0 and year % 100 != 0) or year % 400 == 0) else 'Год обычный'\n",
    "    return res\n",
    "\n",
    "leap_years(2024)"
   ]
  }
 ],
 "metadata": {
  "kernelspec": {
   "display_name": "Python 3 (ipykernel)",
   "language": "python",
   "name": "python3"
  },
  "language_info": {
   "codemirror_mode": {
    "name": "ipython",
    "version": 3
   },
   "file_extension": ".py",
   "mimetype": "text/x-python",
   "name": "python",
   "nbconvert_exporter": "python",
   "pygments_lexer": "ipython3",
   "version": "3.11.5"
  }
 },
 "nbformat": 4,
 "nbformat_minor": 5
}
