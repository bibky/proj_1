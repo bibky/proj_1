{
 "cells": [
  {
   "cell_type": "code",
   "execution_count": null,
   "id": "45e29df2",
   "metadata": {},
   "outputs": [],
   "source": [
    "#Придумать программу, которая бы переводила оценку по 100-балльной системе в A (90-100), B (80-89), C (70-79), D (60-69), F(0-59)\n",
    "\n",
    "def marks (a): \n",
    "    try:\n",
    "        a = int(a)  # Пытаемся преобразовать в целое число\n",
    "    except Exception as e:\n",
    "        print('Ошибка: Введите целое число!', e) \n",
    "        return a\n",
    "    assert 0 <= a <= 100, \"Оценка должна быть от 0 до 100\"\n",
    "    if 90 <= a <= 100:\n",
    "        print('Оценка A')\n",
    "    elif 80 <= a <= 89:\n",
    "        print('Оценка B')\n",
    "    elif 70 <= a <= 79:\n",
    "        print('Оценка A')\n",
    "    elif 60 <= a <= 69:\n",
    "        print('Оценка A')\n",
    "    elif 0 <= a <= 59:\n",
    "        print('Оценка F')\n",
    "    else:\n",
    "        print('Ведите оценку от 0 до 100!')    \n",
    "marks(89)"
   ]
  }
 ],
 "metadata": {
  "kernelspec": {
   "display_name": "Python 3 (ipykernel)",
   "language": "python",
   "name": "python3"
  },
  "language_info": {
   "codemirror_mode": {
    "name": "ipython",
    "version": 3
   },
   "file_extension": ".py",
   "mimetype": "text/x-python",
   "name": "python",
   "nbconvert_exporter": "python",
   "pygments_lexer": "ipython3",
   "version": "3.11.5"
  }
 },
 "nbformat": 4,
 "nbformat_minor": 5
}
