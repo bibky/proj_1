{
 "cells": [
  {
   "cell_type": "code",
   "execution_count": null,
   "id": "1fdd17cd",
   "metadata": {},
   "outputs": [],
   "source": [
    "#Задание 1.3: Классификация треугольников. Напишите программу, которая по трем сторонам треугольника определяет его тип\n",
    "def triangle ():\n",
    "    a = int(input('Введите длину стороны a'))\n",
    "    b = int(input('Введите длину стороны b'))\n",
    "    c = int(input('Введите длину стороны c'))\n",
    "    if a == b == c:\n",
    "        print('Треугольник равносторонний')\n",
    "    elif a == b or b == c or c == a:\n",
    "        print('Треугольник равнобедренный')\n",
    "    elif ((a + b > c) and (a + c > b) and (b + c > a)):\n",
    "        print('Треугольник разносторонний')\n",
    "    else:\n",
    "        print('Не является треугольником (сумма двух сторон меньше третьей)')\n",
    "triangle()"
   ]
  }
 ],
 "metadata": {
  "kernelspec": {
   "display_name": "Python 3 (ipykernel)",
   "language": "python",
   "name": "python3"
  },
  "language_info": {
   "codemirror_mode": {
    "name": "ipython",
    "version": 3
   },
   "file_extension": ".py",
   "mimetype": "text/x-python",
   "name": "python",
   "nbconvert_exporter": "python",
   "pygments_lexer": "ipython3",
   "version": "3.11.5"
  }
 },
 "nbformat": 4,
 "nbformat_minor": 5
}
