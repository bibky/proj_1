{
 "cells": [
  {
   "cell_type": "markdown",
   "metadata": {},
   "source": [
    "Стандартные библиотеки Python : \n",
    "os, sys, collections и другие являются мощным инструментом, которым нужно и полезно уметь пользоваться. \n",
    "\n",
    "Ресурсы к ознакомлению:\n",
    "\n",
    "sys -- https://docs.python.org/3/library/sys.html\n",
    "\n",
    "os -- https://docs.python.org/3/library/os.html\n",
    "\n",
    "collections -- https://docs.python.org/3/library/collections.html"
   ]
  },
  {
   "cell_type": "markdown",
   "metadata": {},
   "source": [
    "#### COLLECTIONS"
   ]
  },
  {
   "cell_type": "code",
   "execution_count": 61,
   "metadata": {},
   "outputs": [
    {
     "name": "stdout",
     "output_type": "stream",
     "text": [
      "deque\n",
      "defaultdict\n",
      "OrderedDict\n",
      "namedtuple\n",
      "Counter\n",
      "ChainMap\n",
      "UserDict\n",
      "UserList\n",
      "UserString\n"
     ]
    }
   ],
   "source": [
    "\"\"\"\n",
    "    Начнем с collections. Библиотека хранит в себе специальные контейнеры, \n",
    "    расширяющие классический список контейнеров: списков, кортежей и словарей.\n",
    "\"\"\"\n",
    "import collections\n",
    "\"\"\"\n",
    "    Посмотреть содержащиеся полезные модули можно, написав функцию ниже одной строкой.\n",
    "\"\"\"\n",
    "print('\\n'.join(list(filter(lambda x: not x.startswith('_') and x != 'abc', collections.__dict__.keys()))))\n",
    "# содержательно эта строка станет понятна по мере освоения курса\n",
    "# она неявно содержит в себе концепции list comprehension, а также парадигмы функционального программирования\n",
    "# и в целом демонстрирует лаконичность и эффективность инструментов языка python"
   ]
  },
  {
   "cell_type": "code",
   "execution_count": null,
   "metadata": {},
   "outputs": [
    {
     "name": "stdout",
     "output_type": "stream",
     "text": [
      "CallOption(strike=100, expiration_date='2026-01-01') <class '__main__.CallOption'>\n",
      "100 <class 'int'> 2026-01-01 <class 'str'>\n",
      "Достаем словарь: {'strike': 100, 'expiration_date': '2026-01-01'} <class 'dict'>\n",
      "Создаем новый именованный кортеж: CallOption(strike=200, expiration_date='2026-01-01')\n",
      "('strike', 'expiration_date') <class 'tuple'>\n"
     ]
    }
   ],
   "source": [
    "'''\n",
    "    Начнем с рассмотрения namedtuple. Это именованный кортеж, который то же самое, что и кортеж,\n",
    "    но допускает обращение к своим полям по имени. Более точно, это специальный тип класса с реализованным дандер методом '__repr__()'\n",
    "'''\n",
    "from collections import namedtuple\n",
    "from typing import NamedTuple # нужна для указания типа, или в качестве указания как родительского класса при создании дочернего\n",
    "\n",
    "CallOption = namedtuple('CallOption', ['strike', 'expiration_date'])\n",
    "\n",
    "my_option: CallOption = CallOption(strike=100, expiration_date='2026-01-01')\n",
    "print(my_option, type(my_option))\n",
    "print(my_option.strike, type(my_option.strike), my_option.expiration_date, type(my_option.expiration_date))\n",
    "\n",
    "# my_option.strike = 101 # AttributeError: can't set attribute\n",
    "'''\n",
    "    Для работы с именованными кортежами полезно пользоваться некоторыми методами\n",
    "'''\n",
    "# namedtuple._asdict() -- представляет объект класса как словарь\n",
    "print('Достаем словарь:', my_option._asdict(), type(my_option._asdict()))\n",
    "\n",
    "# namedtuple._replace -- возвращает новый экземляр  замененным полем\n",
    "print('Создаем новый именованный кортеж:', my_option._replace(strike=200))\n",
    "\n",
    "# namedtuple._fields -- получить кортеж строк полей\n",
    "print(my_option._fields, type(my_option._fields))"
   ]
  },
  {
   "cell_type": "code",
   "execution_count": 98,
   "metadata": {},
   "outputs": [
    {
     "name": "stdout",
     "output_type": "stream",
     "text": [
      "deque([3, 4, 5, 6, 7, 8, 9, 10, 11, 12], maxlen=10) , ограничен по длине  10 \n",
      "\n",
      "Убрать элемент слева: 3 , в очереди останется: deque([4, 5, 6, 7, 8, 9, 10, 11, 12], maxlen=10) , длина  9\n",
      "Убрать элемент справа: 12 , в очереди останется: deque([4, 5, 6, 7, 8, 9, 10, 11], maxlen=10) , длина  8 \n",
      "\n",
      "Добавить элемент слева: None , в очереди станет: deque([0, 4, 5, 6, 7, 8, 9, 10, 11], maxlen=10) , длина  9\n",
      "Добавить элемент справа: None , в очереди станет: deque([0, 4, 5, 6, 7, 8, 9, 10, 11, 0], maxlen=10) , длина  10\n",
      "Добавить элемент слева: None , в очереди станет: deque([0, 0, 4, 5, 6, 7, 8, 9, 10, 11], maxlen=10) , длина  10\n",
      "Добавить элемент справа: None , в очереди станет: deque([0, 4, 5, 6, 7, 8, 9, 10, 11, 0], maxlen=10) , длина  10\n",
      "Добавить еще элемент слева: None , в очереди станет: deque([0, 0, 4, 5, 6, 7, 8, 9, 10, 11], maxlen=10) , длина  10\n",
      "Добавить еще элемент слева: None , в очереди станет: deque([0, 0, 0, 4, 5, 6, 7, 8, 9, 10], maxlen=10) , длина  10\n",
      "deque([0, 0, 0, 4, 5, 6, 7, 8, 9, 10], maxlen=10) \n",
      "\n",
      "используем rotate(2): None , получаем: deque([9, 10, 0, 0, 0, 4, 5, 6, 7, 8], maxlen=10)\n"
     ]
    }
   ],
   "source": [
    "\"\"\"\n",
    "    Далее deque. Это список с эффективной реализацией добавления и извлечения элементов.\n",
    "    В соответствии с описанием в документации:\n",
    "        Дек это обобщение стека и очереди. Он потоко-безопасный (thread-safe, то есть его можно параллелить \n",
    "        на уровне потоков без опасения измененения объекта со стороны другого потока, здравствуй impute и lock),\n",
    "        эффективный по памяти и требует О(1) времени на добавление и извлечение элемента с начала и конца списка.\n",
    "\"\"\"\n",
    "from collections import deque\n",
    "\n",
    "my_deque = deque(maxlen=10)\n",
    "_ = [my_deque.append(i) for i in range(13)]\n",
    "print(my_deque, ', ограничен по длине ', len(my_deque), '\\n')\n",
    "\n",
    "print('Убрать элемент слева:', my_deque.popleft(), ', в очереди останется:', my_deque, ', длина ', len(my_deque))\n",
    "print('Убрать элемент справа:', my_deque.pop(), ', в очереди останется:', my_deque, ', длина ', len(my_deque), '\\n')\n",
    "\n",
    "print('Добавить элемент слева:', my_deque.appendleft(0), ', в очереди станет:', my_deque, ', длина ', len(my_deque))\n",
    "print('Добавить элемент справа:', my_deque.append(0), ', в очереди станет:', my_deque, ', длина ', len(my_deque))\n",
    "print('Добавить элемент слева:', my_deque.appendleft(0), ', в очереди станет:', my_deque, ', длина ', len(my_deque))\n",
    "print('Добавить элемент справа:', my_deque.append(0), ', в очереди станет:', my_deque, ', длина ', len(my_deque))\n",
    "print('Добавить еще элемент слева:', my_deque.appendleft(0), ', в очереди станет:', my_deque, ', длина ', len(my_deque))\n",
    "print('Добавить еще элемент слева:', my_deque.appendleft(0), ', в очереди станет:', my_deque, ', длина ', len(my_deque))\n",
    "'''\n",
    "    Очередь позволяет эффективно осуществлять операции вставки и изъятия объектов в начале и в конце списка.\n",
    "    И кроме того в ней встроена защита от дурака, которая не позволит создавать бесконечно большой список.\n",
    "'''\n",
    "print(my_deque * 2 ** 10, '\\n') # мы можем бесконечно долго из-за ошибки в коде нарашивать длину списка, но не сможем для очереди\n",
    "'''\n",
    "    deque поддерживает многие операции, доступные list:\n",
    "    insert, clear, copy, count, extend, remove, reverse\n",
    "    Есть свой метод rotate(n=1), который по принципу RR(RoundRobin) сдвигает все элементы на n вправо (n < 0 -- влево)\n",
    "'''\n",
    "print('используем rotate(2):', my_deque.rotate(2), ', получаем:', my_deque)"
   ]
  },
  {
   "cell_type": "code",
   "execution_count": null,
   "metadata": {},
   "outputs": [
    {
     "name": "stdout",
     "output_type": "stream",
     "text": [
      "missing_value\n",
      "missing_value\n",
      "arbitraty_value_inserted_right_here\n",
      "defaultdict(<class 'list'>, {'fridge': ['egg', 'steak', 'butter'], 'pocket': ['money']})\n"
     ]
    }
   ],
   "source": [
    "'''\n",
    "    следующий объект -- defaultdict. Он расширяет обыкновенный словарь, добавляя метод,\n",
    "    который вызывается каждый раз при отсуствии ключа, по которому произошло обращение. \n",
    "    При создании словаря с дефолтным значением в случае неуказания этого дефолтного значения (аргумент default_factory)\n",
    "    он работает как обычный словарь. Если default_factory указан, то по указанному отсутствующему ключу вызывается default_factory \n",
    "    Сигнатура такая : defaultdict(default_factory: Callable[[None], object])\n",
    "    При этом \n",
    "'''\n",
    "\n",
    "from collections import defaultdict\n",
    "\n",
    "my_default_dict = defaultdict()\n",
    "# my_default_dict['0'] # KeyError\n",
    "\n",
    "# 1 способ\n",
    "my_default_dict = defaultdict(lambda: 'missing_value')\n",
    "print(my_default_dict['0'])\n",
    "\n",
    "# 2 способ\n",
    "def return_dafault_value():\n",
    "    return 'missing_value'\n",
    "\n",
    "my_default_dict = defaultdict(return_dafault_value)\n",
    "print(my_default_dict['0'])\n",
    "\n",
    "# 3 способ\n",
    "def return_dafault_value(value):\n",
    "    return lambda: value\n",
    "\n",
    "my_default_dict = defaultdict(return_dafault_value('arbitraty_value_inserted_right_here'))\n",
    "print(my_default_dict['0'])\n",
    "\n",
    "# другие варианты\n",
    "my_default_dict = defaultdict(list) # дефолтом ставим список\n",
    "my_default_dict['fridge'].append('egg')\n",
    "my_default_dict['fridge'].append('steak')\n",
    "my_default_dict['fridge'].append('butter')\n",
    "my_default_dict['pocket'].append('money')\n",
    "print(my_default_dict)"
   ]
  },
  {
   "cell_type": "code",
   "execution_count": null,
   "metadata": {},
   "outputs": [
    {
     "name": "stdout",
     "output_type": "stream",
     "text": [
      "Упорядоченный словарь: OrderedDict([('a', None), ('b', None), ('c', None), ('d', None), ('e', None)]) <class 'collections.OrderedDict'>\n",
      "Переупорядочили ключи: acdeb\n",
      "Переупорядочили ключи сноав: bacde\n",
      "Текущий порядок: bacde , вытащим последний добавленный элемент (LIFO): ('e', None)\n",
      "Текущий порядок: bacd , вытащим первый добавленный элемент (FIFO): ('b', None)\n"
     ]
    }
   ],
   "source": [
    "'''\n",
    "    OrderedDict -- это словарь, который помнит порядок добавления ключей. Начиная с python 3.7 это умеет и дефолтный словарь (dict, не путать с defaultdict)\n",
    "    Так что по большому счету он не настолько актуален. Однако если вам нужно в явном виде донести важную идею вашего кода,\n",
    "    то использование OrderedDict оправдано вашими целями\n",
    "'''\n",
    "\n",
    "from collections import OrderedDict\n",
    "\n",
    "my_ordered_dict: OrderedDict = OrderedDict.fromkeys('abcde')\n",
    "print('Упорядоченный словарь:', my_ordered_dict, type(my_ordered_dict))\n",
    "my_ordered_dict.move_to_end('b')\n",
    "print('Переупорядочили ключи:', ''.join(my_ordered_dict))\n",
    "\n",
    "my_ordered_dict.move_to_end('b', last=False)\n",
    "print('Переупорядочили ключи сноав:', ''.join(my_ordered_dict))\n",
    "\n",
    "print('Текущий порядок:', ''.join(my_ordered_dict), ', вытащим последний добавленный элемент (LIFO):', my_ordered_dict.popitem())\n",
    "print('Текущий порядок:', ''.join(my_ordered_dict), ', вытащим первый добавленный элемент (FIFO):', my_ordered_dict.popitem(last=False))"
   ]
  },
  {
   "cell_type": "code",
   "execution_count": 114,
   "metadata": {},
   "outputs": [
    {
     "name": "stdout",
     "output_type": "stream",
     "text": [
      "ChainMap({'a': 1, 'b': 2, 'c': 3}, {'color': 'yellow', 'size': 10}, {'date': '2025-01-01', 'time': '16:00'}) <class 'collections.ChainMap'>\n",
      "Ссылаемся на объект из 3го словаря: 16:00\n",
      "date 2025-01-01\n",
      "time 16:00\n",
      "color yellow\n",
      "size 10\n",
      "a 1\n",
      "b 2\n",
      "c 3\n"
     ]
    }
   ],
   "source": [
    "'''\n",
    "    ChainMap -- подкласс словаря, который объединяет несколько отдельных словарей в один общий.\n",
    "'''\n",
    "\n",
    "from collections import ChainMap\n",
    "\n",
    "my_dict_1 = dict(a=1, b=2, c=3)\n",
    "my_dict_2 = dict(color='yellow', size=10)\n",
    "my_dict_3 = dict(date='2025-01-01', time='16:00')\n",
    "\n",
    "chain_map : ChainMap = ChainMap(my_dict_1, my_dict_2, my_dict_3)\n",
    "print(chain_map, type(chain_map))\n",
    "print('Ссылаемся на объект из 3го словаря:', chain_map['time'])\n",
    "# print('Ссылаемся на объект, которого нет:', chain_map['weather']) # KeyError\n",
    "# мы можем проитерироваться по всем объектам в chain'e\n",
    "for key, value in chain_map.items():\n",
    "    print(key, value)"
   ]
  },
  {
   "cell_type": "code",
   "execution_count": 121,
   "metadata": {},
   "outputs": [
    {
     "name": "stdout",
     "output_type": "stream",
     "text": [
      "Счетчик: Counter({1: 4, 0: 3, 2: 2, 3: 2, 5: 1}) <class 'collections.Counter'>\n",
      "Два самых частых числа (число, кол-во): [(1, 4), (0, 3)]\n"
     ]
    }
   ],
   "source": [
    "'''\n",
    "    Последний рассматриваемый -- Counter -- объект, который парсит итерируемый объект на тему повторяющихся элементов\n",
    "    и формирует словарь, в котором ключами являются уникальные элементы входного списка, а значениями их количество.\n",
    "'''\n",
    "\n",
    "from collections import Counter\n",
    "\n",
    "my_counter : Counter = Counter([0,1,2,3,3,2,1,1,1,0,5,0])\n",
    "print('Счетчик:', my_counter, type(my_counter))\n",
    "\n",
    "# дополнительно можно посмотреть наиболее часто встречающиеся объекты\n",
    "print('Два самых частых числа (число, кол-во):', my_counter.most_common(2))"
   ]
  },
  {
   "cell_type": "markdown",
   "metadata": {},
   "source": [
    "#### SYS and OS"
   ]
  },
  {
   "cell_type": "code",
   "execution_count": null,
   "metadata": {},
   "outputs": [
    {
     "name": "stdout",
     "output_type": "stream",
     "text": [
      "abc, sys, st, GenericAlias, name, linesep, stat, access, chdir, chmod, getcwd, getcwdb, link, listdir, lstat, mkdir, readlink, rename, replace, rmdir, symlink, system, umask, unlink, remove, utime, times, execv, execve, spawnv, spawnve, getpid, getppid, getlogin, kill, startfile, waitpid, open, close, closerange, device_encoding, dup, dup2, lseek, read, write, fstat, isatty, pipe, ftruncate, truncate, putenv, unsetenv, strerror, fsync, abort, urandom, get_terminal_size, cpu_count, get_inheritable, set_inheritable, get_handle_inheritable, set_handle_inheritable, scandir, fspath, waitstatus_to_exitcode, environ, F_OK, R_OK, W_OK, X_OK, TMP_MAX, O_RDONLY, O_WRONLY, O_RDWR, O_APPEND, O_CREAT, O_EXCL, O_TRUNC, O_BINARY, O_TEXT, O_NOINHERIT, O_SHORT_LIVED, O_TEMPORARY, O_RANDOM, O_SEQUENTIAL, EX_OK, P_WAIT, P_NOWAIT, P_NOWAITO, P_OVERLAY, P_DETACH, error, stat_result, statvfs_result, terminal_size, DirEntry, times_result, uname_result, path, curdir, pardir, sep, pathsep, defpath, extsep, altsep, devnull, supports_dir_fd, supports_effective_ids, supports_fd, supports_follow_symlinks, SEEK_SET, SEEK_CUR, SEEK_END, makedirs, removedirs, renames, walk, execl, execle, execlp, execlpe, execvp, execvpe, get_exec_path, MutableMapping, Mapping, getenv, supports_bytes_environ, fsencode, fsdecode, spawnl, spawnle, popen, fdopen, PathLike, add_dll_directory\n"
     ]
    }
   ],
   "source": [
    "'''\n",
    "    библиотека os позволяет работать с некоторым функционалом операционной системы, \n",
    "    которой вы пользуетесь. Как и ранее для более полного ознакомления со всем функционалом рекомендуется читать документацию.\n",
    "'''\n",
    "\n",
    "import os\n",
    "print(', '.join(list(filter(lambda x: not x.startswith('_'), os.__dict__.keys()))))"
   ]
  },
  {
   "cell_type": "code",
   "execution_count": null,
   "metadata": {},
   "outputs": [],
   "source": [
    "path = None\n",
    "\n",
    "# environ содержит словарь с переменными окружения\n",
    "os.environ\n",
    "\n",
    "# getlogin возвращает имя пользователя\n",
    "os.getlogin()\n",
    "\n",
    "# getpid getppid -- id процесса и id его родительского процесса\n",
    "os.getpid()\n",
    "os.getppid()\n",
    "\n",
    "# os.chmod(path, mode, ...) -- установить мод(режим) для файла по пути path\n",
    "\n",
    "# вернуть текущую директорию\n",
    "os.getcwd()\n",
    "\n",
    "# вернуть список файлов в директории\n",
    "os.listdir()\n",
    "\n",
    "# создает директорию по указанному пути path; \n",
    "# если аргумент 'exist_ok' = True , то функция в случае существования директории не поднимет ошибку, если False -- FileExistsError\n",
    "os.makedirs(path, exist_ok=True)\n",
    "\n",
    "# remove / unlink удаляет файл по указанному пути; если указать директорию, будет выдана ошибка OSError\n",
    "os.remove(path) \n",
    "os.unlink(path)\n",
    "\n",
    "# remodirs удаляет директорию по указанному пути; в случае ошибки выдает OSError\n",
    "os.remodirs(path) \n",
    "\n",
    "# переименовать src файл/директорию в dst\n",
    "os.rename(src=None, dst=None)\n",
    "\n",
    "# scandir возвращает итератор объектов, расположенных по пути path\n",
    "os.scandir(path)\n",
    "\n",
    "# возвращает количество логических процессоров в системе\n",
    "os.cpu_count()\n",
    "\n",
    "#####     os.path     #####\n",
    "\n",
    "# abspath возвращает абсолютный путь к указанному относительному пути\n",
    "os.path.abspath('.')\n",
    "\n",
    "# вовзращает имя конечной точки указанного пути\n",
    "os.path.basename(path)\n",
    "\n",
    "# exists проверяет существование директории или файла по указанному пути и возрвращает True или False\n",
    "os.path.exists(path)\n",
    "\n",
    "# возвращают время\n",
    "os.path.getatime('.') # посещения файла/директории\n",
    "os.path.getmtime('.') # изменения файла/директории\n",
    "os.path.getctime('.') # создания файла/директории\n",
    "\n",
    "# вовзращает размер файла/директории в байтах\n",
    "os.path.getsize(path)\n",
    "\n",
    "# по-умному конкатенирует части путей в один\n",
    "os.path.join(path, *paths)\n",
    "\n",
    "# нормализует путь: удаляет ненужные/кривые символы\n",
    "os.path.normpath(path)\n",
    "\n",
    "# разбивает входную сроку-путь на (head, tail), tail последний файл/директория в пути\n",
    "os.path.split(path)\n",
    "\n",
    "# разбивает входную сроку-путь на путь и расширение файла\n",
    "os.path.splitext('somebody/once/told.me')"
   ]
  },
  {
   "cell_type": "code",
   "execution_count": 1,
   "metadata": {},
   "outputs": [
    {
     "name": "stdout",
     "output_type": "stream",
     "text": [
      "addaudithook, audit, breakpointhook, displayhook, exception, exc_info, excepthook, exit, getdefaultencoding, getallocatedblocks, getfilesystemencoding, getfilesystemencodeerrors, getrefcount, getrecursionlimit, getsizeof, getwindowsversion, intern, is_finalizing, setswitchinterval, getswitchinterval, setprofile, getprofile, setrecursionlimit, settrace, gettrace, call_tracing, set_coroutine_origin_tracking_depth, get_coroutine_origin_tracking_depth, set_asyncgen_hooks, get_asyncgen_hooks, unraisablehook, get_int_max_str_digits, set_int_max_str_digits, modules, stderr, version, hexversion, api_version, copyright, platform, maxsize, float_info, int_info, hash_info, maxunicode, builtin_module_names, stdlib_module_names, byteorder, dllhandle, winver, version_info, implementation, flags, float_repr_style, thread_info, meta_path, path_importer_cache, path_hooks, path, executable, prefix, base_prefix, exec_prefix, base_exec_prefix, platlibdir, pycache_prefix, argv, orig_argv, warnoptions, dont_write_bytecode, stdin, stdout, ps1, ps2, ps3\n"
     ]
    }
   ],
   "source": [
    "'''\n",
    "    библиотека sys позволяет работать с некоторым функционалом интерпретатора.\n",
    "'''\n",
    "\n",
    "import sys\n",
    "print(', '.join(list(filter(lambda x: not x.startswith('_'), sys.__dict__.keys()))))"
   ]
  },
  {
   "cell_type": "code",
   "execution_count": null,
   "metadata": {},
   "outputs": [],
   "source": [
    "# argv возвращает аргументы скрипта, [0] элемент это имя файла скрипта\n",
    "sys.argv\n",
    "\n",
    "# содержит copyright\n",
    "sys.copyright\n",
    "\n",
    "# очищает кеш интерпретатора\n",
    "sys._clear_type_cache() # до python 3.13\n",
    "# sys._clear_internal_caches() # python 3.13+\n",
    "\n",
    "#  sys.exception() возвращает пойманную в 'except' ошибку; вне конструкции возвращает None (то есть ничего)\n",
    "try:\n",
    "    _ = 0 / 0\n",
    "except:\n",
    "    exception = sys.exception()\n",
    "    \n",
    "# возвращает SystemExit exception, сигнализирующий о завершении выполнения интерпретатора\n",
    "# sys.exit()\n",
    "\n",
    "# возвращает количество блоков памяти, занятых интерпретатором\n",
    "sys.getallocatedblocks()\n",
    "\n",
    "# возвращает предел рекурсии в интерпретаторе\n",
    "sys.getrecursionlimit()\n",
    "# sys.setrecursionlimit(N) # устанавливает лимит на рекурсию\n",
    "\n",
    "# возвращает размер объекта в байтах\n",
    "sys.getsizeof( 0 )\n",
    "\n",
    "# возвращает глубину вложенных корутин\n",
    "sys.get_coroutine_origin_tracking_depth()\n",
    "\n",
    "# список всех текущих модулей\n",
    "sys.modules.keys()\n",
    "\n",
    "# версия интерпретатора\n",
    "sys.version\n",
    "\n"
   ]
  },
  {
   "cell_type": "markdown",
   "metadata": {},
   "source": [
    "#### TYPING"
   ]
  },
  {
   "cell_type": "code",
   "execution_count": null,
   "metadata": {},
   "outputs": [
    {
     "name": "stdout",
     "output_type": "stream",
     "text": [
      "ABCMeta, AbstractSet, Annotated, Any, AnyStr, AsyncContextManager, AsyncGenerator, AsyncIterable, AsyncIterator, Awaitable, BinaryIO, ByteString, CT_co, Callable, ChainMap, ClassVar, Collection, Concatenate, Container, ContextManager, Coroutine, Counter, DefaultDict, Deque, Dict, EXCLUDED_ATTRIBUTES, Final, ForwardRef, FrozenSet, Generator, Generic, GenericAlias, Hashable, IO, ItemsView, Iterable, Iterator, KT, KeysView, List, Literal, LiteralString, Mapping, MappingView, Match, MethodDescriptorType, MethodWrapperType, MutableMapping, MutableSequence, MutableSet, NamedTuple, NamedTupleMeta, Never, NewType, NoReturn, NotRequired, Optional, OrderedDict, ParamSpec, ParamSpecArgs, ParamSpecKwargs, Pattern, Protocol, Required, Reversible, Self, Sequence, Set, Sized, SupportsAbs, SupportsBytes, SupportsComplex, SupportsFloat, SupportsIndex, SupportsInt, SupportsRound, T, TYPE_CHECKING, T_co, T_contra, Text, TextIO, Tuple, Type, TypeAlias, TypeAliasType, TypeGuard, TypeVar, TypeVarTuple, TypedDict, Union, Unpack, VT, VT_co, V_co, ValuesView, WrapperDescriptorType, abstractmethod, assert_never, assert_type, cast, clear_overloads, collections, contextlib, copyreg, dataclass_transform, defaultdict, final, functools, get_args, get_origin, get_overloads, get_type_hints, io, is_typeddict, no_type_check, no_type_check_decorator, operator, overload, override, re, reveal_type, runtime_checkable, stdlib_re, sys, types, warnings\n"
     ]
    }
   ],
   "source": [
    "'''\n",
    "    В общем, строгая типизация и аннотирование вашего кода значительно упростят\n",
    "    всю дальнейшую работу с ним. Как вам, так и другим, кто будет его читать.\n",
    "'''\n",
    "\n",
    "import typing\n",
    "print(', '.join(sorted(list(filter(lambda x: not x.startswith('_'), typing.__dict__.keys())))))\n",
    "\n",
    "'''\n",
    "    Вам желательно запомнить некоторые наиболее часто употребляемые типы.\n",
    "    Касательно остальных было неплохо их хотя бы знать, чтобы при случае вы могли ими воспользоваться.\n",
    "'''"
   ]
  },
  {
   "cell_type": "markdown",
   "metadata": {},
   "source": [
    "#### SERIALIZATION"
   ]
  },
  {
   "cell_type": "code",
   "execution_count": 17,
   "metadata": {},
   "outputs": [
    {
     "name": "stdout",
     "output_type": "stream",
     "text": [
      "Hello, default write! \n",
      "\n",
      "Hello, json! \n",
      "\n",
      "Hello, dill|pickle|cloudpickle! \n",
      "\n"
     ]
    }
   ],
   "source": [
    "'''\n",
    "wikipedia\n",
    "    Сериализация (в программировании) — процесс перевода структуры данных в битовую последовательность. \n",
    "    Обратной к операции сериализации является операция десериализации (структуризации) — \n",
    "        создание структуры данных из битовой последовательности.\n",
    "    Мы будем ссылаться на сериализацию как на возможность создания и сохранения файла \n",
    "    из некоторого объекта python.\n",
    "    Есть несколько библиотек, которые позволяют сериализовать некоторый объект.\n",
    "    Если это dataframe, то его можно сериализовать в parquet, csv и другие форматы, предусмотренные библиотекой.\n",
    "    Если это некоторая строка, словарь, список -- можно использовать json\n",
    "    Если это какой-то произвольный объект (любой, в том числе и из вышеперечисленных) --\n",
    "        его можно сохранить в виде бинарного файла. Библиотеки: dill, cloudpickle, pickle\n",
    "        В реальности, разумно ограничиться одной библиотекой. Ознакомьтесь с каждой из списка выше\n",
    "'''\n",
    "\n",
    "import json, cloudpickle, pickle, dill\n",
    "\n",
    "# В общем случае, для работы с файлами используют контекстный менеджер with\n",
    "# Он гарантирует, что вне его блока кода файл корректно будет закрыт\n",
    "\n",
    "# default'ная запись и чтение текстового файла\n",
    "with open('somefile.txt', 'w') as file: # первый аргумент - имя файла, второй режим использования ('w' - запись, 'r' - чтение)\n",
    "    file.write('Hello, default write!')\n",
    "with open('somefile.txt', 'r') as file:\n",
    "    line = file.read()\n",
    "    print(line, '\\n')\n",
    "\n",
    "# сериализация с помощью json\n",
    "with open('somefile.json', 'w') as file:\n",
    "    json.dump('Hello, json!', file)\n",
    "with open('somefile.json', 'r') as file:\n",
    "    line = json.load(file)\n",
    "    print(line, '\\n')\n",
    "\n",
    "# сериализация с помощью dill, pickle, cloudpickle\n",
    "with open('somefile.pickle', 'wb') as file: # для бинарных файлов режим доступа нужно писать 'wb', 'rb' что значит 'binary'\n",
    "    dill.dump('Hello, dill|pickle|cloudpickle!', file)\n",
    "    pickle.dump('Hello, dill|pickle|cloudpickle!', file)\n",
    "    cloudpickle.dump('Hello, dill|pickle|cloudpickle!', file)\n",
    "with open('somefile.pickle', 'rb') as file:\n",
    "    line = dill.load(file)\n",
    "    line = pickle.load(file)\n",
    "    line = cloudpickle.load(file)\n",
    "    print(line, '\\n')"
   ]
  },
  {
   "cell_type": "code",
   "execution_count": 16,
   "metadata": {},
   "outputs": [
    {
     "name": "stdout",
     "output_type": "stream",
     "text": [
      "Hello, world!\n",
      "\n",
      "LinearRegression() LinearRegression()\n",
      "\n",
      "Defined function\n"
     ]
    }
   ],
   "source": [
    "# вы можете сериализовать почти любой объект и его состояние\n",
    "\n",
    "# class\n",
    "class ToDemonstrate:\n",
    "    def __init__(self):\n",
    "        pass\n",
    "    def print_hello(self):\n",
    "        print('Hello, world!')\n",
    "\n",
    "my_class = ToDemonstrate()\n",
    "\n",
    "with open('demonstration_cls.pkl', 'wb') as f:\n",
    "    cloudpickle.dump(my_class, f)\n",
    "with open('demonstration_cls.pkl', 'rb') as f:\n",
    "    new_read_class = cloudpickle.load(f)\n",
    "new_read_class.print_hello()\n",
    "print()\n",
    "\n",
    "# объект из библиотеки, например, объект линейной регресии, который тоже класс\n",
    "from sklearn.linear_model import LinearRegression\n",
    "lr = LinearRegression()\n",
    "with open('not_fitted_lr.pkl', 'wb') as f:\n",
    "    cloudpickle.dump(lr, f)\n",
    "with open('not_fitted_lr.pkl', 'rb') as f:\n",
    "    new_read_lr = cloudpickle.load(f)\n",
    "print(lr, new_read_lr)\n",
    "print()\n",
    "\n",
    "# фунцию (но не анонимную lambda функцию!)\n",
    "def to_save():\n",
    "    print('Defined function')\n",
    "with open('my_func.pkl', 'wb') as f:\n",
    "    cloudpickle.dump(to_save, f)\n",
    "with open('my_func.pkl', 'rb') as f:\n",
    "    new_read_func = cloudpickle.load(f)\n",
    "new_read_func()"
   ]
  },
  {
   "cell_type": "markdown",
   "metadata": {},
   "source": [
    "#### ЗАДАЧИ"
   ]
  },
  {
   "cell_type": "code",
   "execution_count": null,
   "metadata": {},
   "outputs": [],
   "source": [
    "'''\n",
    "    Ниже вам будут предложены задачи для освоения материалов.\n",
    "    Собственно, первая и параллельная задача:\n",
    "        Все объекты, которые вы создадите нужно упаковать в виде файлов (то есть сериализовать).\n",
    "        По расширению файла должно быть понятно, как его прочитать.\n",
    "        Дополнительно вам нужно узнать как сохранять файлы в формате .rar, .zip, .tar.gz \n",
    "            и тоже сохранить файлы в этих форматах.\n",
    "\n",
    "    Требования к написанию кода: структура, читаемость, строгая типизация и аннотирования.\n",
    "    Код должен быть очевиден, понятен, структурирован.\n",
    "'''"
   ]
  },
  {
   "cell_type": "code",
   "execution_count": null,
   "metadata": {},
   "outputs": [],
   "source": [
    "# Реализуйте простую модель стоянки. \n",
    "# 1) Скажем, ваши автомобили это именованные кортежи, с указанием марки автомобиля, модели, гос.номера и цвета\n",
    "# 2) Сама стоянка это двусторонняя очередь (deque)\n",
    "#   Представим, что у нас нет коллизий, и если места на стоянке нет, то виртуально вызывается эвакуатор и убирает самый крайний автомобиль (как и работает deque)\n",
    "# 3) Создайте набор автомобилей и в случайном порядке добавляйте/удаляйте их с автостоянки.\n",
    "# 4) Посчитайте, сколько и каких автомобилей осталось на автостоянке.\n"
   ]
  },
  {
   "cell_type": "code",
   "execution_count": null,
   "metadata": {},
   "outputs": [],
   "source": [
    "# Теперь вы работаете в роли архивариуса РСФСР и занимаетесь хранением информации об иуществе раскулаченных граждан Имперской России\n",
    "# У вас несколько книг с записями, упорядоченных по алфавиту. Каждая книга хранит фамилии, начинающиеся с конкретной буквы.\n",
    "# Внутри книги указаны фамилии, к каждому гражданину указана категория имущества, например, мебель, посуда, картины и т.д.\n",
    "# В каждой категории указан список вещей, которые были изъяты. \n",
    "# Вы вносите записи, и если новой записи нет, вы ее создаете. Затем, когда ищите конкретную категорию предмета, начинаете перебирать все книги, начиная с первой буквы по алфавиту в вашем списке.\n",
    "# Очевидно, что вам нужно использовать defaultdict и ChainMap\n"
   ]
  },
  {
   "cell_type": "code",
   "execution_count": null,
   "metadata": {},
   "outputs": [],
   "source": [
    "# Используя sys и os \n",
    "# Выведите некоторые ваши директории с указанием размера всех файлов и упорядочьте их (директории) по времени последнего обращения\n",
    "# Выведите список расширений файлов, которые хранятся на вашем ПК\n",
    "# Посчитайте объем памяти, который используется вашим интерпретатором\n"
   ]
  },
  {
   "cell_type": "markdown",
   "metadata": {},
   "source": [
    "#### ДОПОЛНИТЕЛЬНЫЕ ПРАКТИЧЕСКИЕ ЗАДАЧИ\n",
    "\n",
    "Ниже представлены дополнительные задачи для закрепления изученного материала. Каждая задача использует только те концепции, которые были представлены в данном уроке.\n"
   ]
  },
  {
   "cell_type": "markdown",
   "metadata": {},
   "source": [
    "**Задача 1: Система управления библиотекой**\n",
    "\n",
    "Создайте систему управления библиотекой используя collections:\n",
    "\n",
    "1. Создайте namedtuple `Book` с полями: title, author, isbn, year\n",
    "2. Создайте namedtuple `Reader` с полями: name, reader_id, phone\n",
    "3. Используйте `defaultdict(list)` для хранения книг по жанрам\n",
    "4. Используйте `deque` для очереди читателей, ожидающих популярную книгу\n",
    "5. Используйте `Counter` для подсчета количества книг каждого автора\n",
    "6. Используйте `OrderedDict` для хранения истории выдачи книг (читатель -> список книг)\n",
    "7. Сериализуйте все данные в JSON и pickle форматы\n"
   ]
  },
  {
   "cell_type": "markdown",
   "metadata": {},
   "source": [
    "**Задача 2: Анализатор файловой системы**\n",
    "\n",
    "Создайте анализатор файловой системы используя os и sys:\n",
    "\n",
    "1. Создайте namedtuple `FileInfo` с полями: name, size, extension, modified_time\n",
    "2. Используйте `os.walk()` для обхода директории\n",
    "3. Используйте `os.path` функции для получения информации о файлах\n",
    "4. Используйте `Counter` для подсчета файлов по расширениям\n",
    "5. Используйте `defaultdict(list)` для группировки файлов по размеру (маленькие < 1MB, средние 1-100MB, большие > 100MB)\n",
    "6. Используйте `deque` для хранения последних 10 найденных файлов\n",
    "7. Выведите статистику используя `sys.getsizeof()` для подсчета памяти\n",
    "8. Сохраните результаты в JSON файл\n"
   ]
  },
  {
   "cell_type": "markdown",
   "metadata": {},
   "source": [
    "**Задача 3: Система конфигурации приложения**\n",
    "\n",
    "Создайте систему конфигурации используя ChainMap и defaultdict:\n",
    "\n",
    "1. Создайте namedtuple `Config` с полями: key, value, section, default_value\n",
    "2. Создайте несколько словарей конфигурации (default, user, environment)\n",
    "3. Используйте `ChainMap` для объединения конфигураций с приоритетом\n",
    "4. Используйте `defaultdict(dict)` для группировки настроек по секциям\n",
    "5. Используйте `OrderedDict` для сохранения порядка загрузки конфигураций\n",
    "6. Используйте `os.environ` для чтения переменных окружения\n",
    "7. Сериализуйте конфигурацию в JSON и pickle форматы\n"
   ]
  },
  {
   "cell_type": "markdown",
   "metadata": {},
   "source": [
    "**Задача 4: Мониторинг системы**\n",
    "\n",
    "Создайте систему мониторинга используя sys и os:\n",
    "\n",
    "1. Создайте namedtuple `SystemInfo` с полями: cpu_count, memory_usage, process_id, user_name\n",
    "2. Используйте `os.cpu_count()` для получения количества процессоров\n",
    "3. Используйте `sys.getallocatedblocks()` для мониторинга памяти\n",
    "4. Используйте `os.getpid()` и `os.getlogin()` для информации о процессе\n",
    "5. Используйте `deque` для хранения последних 20 измерений\n",
    "6. Используйте `Counter` для подсчета частоты использования различных функций\n",
    "7. Используйте `defaultdict(list)` для группировки измерений по времени\n",
    "8. Сохраните историю мониторинга в pickle файл\n"
   ]
  },
  {
   "cell_type": "markdown",
   "metadata": {},
   "source": [
    "**Задача 5: Система логирования**\n",
    "\n",
    "Создайте систему логирования используя все изученные коллекции:\n",
    "\n",
    "1. Создайте namedtuple `LogEntry` с полями: timestamp, level, message, module, function\n",
    "2. Используйте `deque` для хранения последних 100 логов (кольцевой буфер)\n",
    "3. Используйте `defaultdict(list)` для группировки логов по уровням (DEBUG, INFO, WARNING, ERROR)\n",
    "4. Используйте `Counter` для подсчета количества логов каждого уровня\n",
    "5. Используйте `OrderedDict` для хранения логов по времени (FIFO)\n",
    "6. Используйте `ChainMap` для объединения различных источников логов\n",
    "7. Используйте `os.path` для работы с файлами логов\n",
    "8. Сериализуйте логи в JSON и pickle форматы\n"
   ]
  },
  {
   "cell_type": "markdown",
   "metadata": {},
   "source": [
    "**Задача 6: Кэш-система**\n",
    "\n",
    "Создайте простую кэш-систему используя collections:\n",
    "\n",
    "1. Создайте namedtuple `CacheEntry` с полями: key, value, timestamp, access_count\n",
    "2. Используйте `OrderedDict` для реализации LRU (Least Recently Used) кэша\n",
    "3. Используйте `deque` для хранения истории доступа к ключам\n",
    "4. Используйте `Counter` для подсчета частоты доступа к каждому ключу\n",
    "5. Используйте `defaultdict(int)` для хранения счетчиков доступа\n",
    "6. Реализуйте методы: get, set, delete, clear, size\n",
    "7. Используйте `sys.getsizeof()` для мониторинга размера кэша\n",
    "8. Сериализуйте кэш в pickle формат для сохранения между сессиями\n"
   ]
  },
  {
   "cell_type": "markdown",
   "metadata": {},
   "source": [
    "**Задача 7: Анализатор текста**\n",
    "\n",
    "Создайте анализатор текста используя collections:\n",
    "\n",
    "1. Создайте namedtuple `WordInfo` с полями: word, frequency, length, first_occurrence\n",
    "2. Используйте `Counter` для подсчета частоты слов\n",
    "3. Используйте `defaultdict(list)` для группировки слов по длине\n",
    "4. Используйте `deque` для хранения последних 50 уникальных слов\n",
    "5. Используйте `OrderedDict` для хранения слов в порядке первого появления\n",
    "6. Используйте `os.path` для работы с текстовыми файлами\n",
    "7. Используйте `sys.getsizeof()` для анализа памяти\n",
    "8. Сохраните результаты анализа в JSON файл\n"
   ]
  },
  {
   "cell_type": "markdown",
   "metadata": {},
   "source": [
    "**Задача 8: Система управления задачами**\n",
    "\n",
    "Создайте систему управления задачами (TODO) используя все изученные концепции:\n",
    "\n",
    "1. Создайте namedtuple `Task` с полями: id, title, description, priority, status, created_date\n",
    "2. Используйте `defaultdict(list)` для группировки задач по статусу (todo, in_progress, done)\n",
    "3. Используйте `deque` для очереди задач с высоким приоритетом\n",
    "4. Используйте `Counter` для подсчета задач по приоритету\n",
    "5. Используйте `OrderedDict` для хранения задач в порядке создания\n",
    "6. Используйте `ChainMap` для объединения различных списков задач\n",
    "7. Используйте `os.path` для работы с файлами задач\n",
    "8. Реализуйте функции: add_task, complete_task, get_tasks_by_status, get_priority_queue\n",
    "9. Сериализуйте все данные в JSON и pickle форматы\n"
   ]
  },
  {
   "cell_type": "markdown",
   "metadata": {},
   "source": [
    "**Задача 9: Система мониторинга производительности**\n",
    "\n",
    "Создайте систему мониторинга производительности используя sys и collections:\n",
    "\n",
    "1. Создайте namedtuple `PerformanceMetric` с полями: function_name, execution_time, memory_usage, timestamp\n",
    "2. Используйте `deque` для хранения последних 100 измерений производительности\n",
    "3. Используйте `defaultdict(list)` для группировки метрик по функциям\n",
    "4. Используйте `Counter` для подсчета количества вызовов каждой функции\n",
    "5. Используйте `OrderedDict` для хранения метрик в хронологическом порядке\n",
    "6. Используйте `sys.getsizeof()` для мониторинга памяти\n",
    "7. Используйте `os.path` для работы с файлами метрик\n",
    "8. Реализуйте функции: record_metric, get_function_stats, get_memory_usage, export_metrics\n",
    "9. Сериализуйте метрики в JSON и pickle форматы\n"
   ]
  },
  {
   "cell_type": "markdown",
   "metadata": {},
   "source": [
    "**Задача 10: Комплексная система управления данными**\n",
    "\n",
    "Создайте комплексную систему управления данными, объединяющую все изученные концепции:\n",
    "\n",
    "1. Создайте несколько namedtuple для различных типов данных (User, Product, Order, etc.)\n",
    "2. Используйте `defaultdict` для создания индексов по различным полям\n",
    "3. Используйте `deque` для реализации очередей обработки данных\n",
    "4. Используйте `Counter` для аналитики и статистики\n",
    "5. Используйте `OrderedDict` для хранения данных в определенном порядке\n",
    "6. Используйте `ChainMap` для объединения различных источников данных\n",
    "7. Используйте `os` и `sys` для работы с файловой системой и мониторинга\n",
    "8. Реализуйте CRUD операции (Create, Read, Update, Delete)\n",
    "9. Добавьте функции экспорта/импорта данных в различных форматах\n",
    "10. Сериализуйте все данные в JSON, pickle и другие форматы\n",
    "11. Добавьте типизацию для всех функций и классов\n",
    "12. Реализуйте систему логирования для отслеживания операций\n"
   ]
  },
  {
   "cell_type": "markdown",
   "metadata": {},
   "source": [
    "#### РЕКОМЕНДАЦИИ ПО ВЫПОЛНЕНИЮ ЗАДАЧ\n",
    "\n",
    "1. **Начните с простых задач** (1-3) для понимания базовых концепций\n",
    "2. **Используйте типизацию** - добавляйте type hints для всех функций и переменных\n",
    "3. **Структурируйте код** - разбивайте задачи на логические функции и классы\n",
    "4. **Документируйте код** - добавляйте docstrings для всех функций\n",
    "5. **Тестируйте сериализацию** - убедитесь, что данные корректно сохраняются и загружаются\n",
    "6. **Обрабатывайте ошибки** - используйте try-except блоки для обработки исключений\n",
    "7. **Оптимизируйте память** - используйте `sys.getsizeof()` для мониторинга использования памяти\n",
    "8. **Следуйте принципам** - код должен быть читаемым, понятным и структурированным\n",
    "\n",
    "**Дополнительные требования:**\n",
    "- Все объекты должны быть сериализованы в соответствующие форматы\n",
    "- Код должен содержать комментарии на русском языке\n",
    "- Функции должны быть небольшими и выполнять одну задачу\n",
    "- Используйте только те библиотеки и концепции, которые представлены в уроке\n"
   ]
  },
  {
   "cell_type": "code",
   "execution_count": null,
   "metadata": {},
   "outputs": [],
   "source": []
  }
 ],
 "metadata": {
  "kernelspec": {
   "display_name": "base",
   "language": "python",
   "name": "python3"
  },
  "language_info": {
   "codemirror_mode": {
    "name": "ipython",
    "version": 3
   },
   "file_extension": ".py",
   "mimetype": "text/x-python",
   "name": "python",
   "nbconvert_exporter": "python",
   "pygments_lexer": "ipython3",
   "version": "3.12.9"
  }
 },
 "nbformat": 4,
 "nbformat_minor": 2
}
