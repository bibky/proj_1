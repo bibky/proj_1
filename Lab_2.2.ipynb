{
 "cells": [
  {
   "cell_type": "code",
   "execution_count": 17,
   "id": "acbe7325",
   "metadata": {},
   "outputs": [
    {
     "name": "stdout",
     "output_type": "stream",
     "text": [
      "\n",
      " [2, 3, 5, 7, 11, 13, 17, 19, 23, 29, 31, 37, 41, 43, 47, 53, 59, 61, 67, 71, 73, 79, 83, 89, 97]\n"
     ]
    }
   ],
   "source": [
    "#Задание 2.2: Поиск простых чисел. Напишите функцию, которая находит все простые числа от 2 до заданного числа n. Используйте цикл for и проверку делимости\"\n",
    "lst = []\n",
    "def prime_numbers(n):\n",
    "    for i in range(2, n+1):\n",
    "        C=True\n",
    "        for j in range(2, i):\n",
    "            if i % j == 0:\n",
    "                C=False\n",
    "                break\n",
    "        if C:\n",
    "                lst.append(i)\n",
    "    return(lst)\n",
    "                       \n",
    "print(\"\\n\", prime_numbers(100))"
   ]
  }
 ],
 "metadata": {
  "kernelspec": {
   "display_name": "Tensorflow",
   "language": "python",
   "name": "python3"
  },
  "language_info": {
   "codemirror_mode": {
    "name": "ipython",
    "version": 3
   },
   "file_extension": ".py",
   "mimetype": "text/x-python",
   "name": "python",
   "nbconvert_exporter": "python",
   "pygments_lexer": "ipython3",
   "version": "3.11.5"
  }
 },
 "nbformat": 4,
 "nbformat_minor": 5
}
