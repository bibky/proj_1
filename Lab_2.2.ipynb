{
 "cells": [
  {
   "cell_type": "code",
   "execution_count": null,
   "id": "8eea048d",
   "metadata": {},
   "outputs": [],
   "source": [
    "#Задание 2.2: Поиск простых чисел. Напишите функцию, которая находит все простые числа от 2 до заданного числа n. Используйте цикл for и проверку делимости\"\n",
    "lst = []\n",
    "def prime_numbers(n):\n",
    "    for i in range(2, n+1):\n",
    "        for j in range(2, i):\n",
    "            if i % j == 0:\n",
    "                break\n",
    "        else:\n",
    "            lst.append(i)\n",
    "print(lst)                \n",
    "prime_numbers(7)"
   ]
  }
 ],
 "metadata": {
  "kernelspec": {
   "display_name": "Python 3 (ipykernel)",
   "language": "python",
   "name": "python3"
  },
  "language_info": {
   "codemirror_mode": {
    "name": "ipython",
    "version": 3
   },
   "file_extension": ".py",
   "mimetype": "text/x-python",
   "name": "python",
   "nbconvert_exporter": "python",
   "pygments_lexer": "ipython3",
   "version": "3.11.5"
  }
 },
 "nbformat": 4,
 "nbformat_minor": 5
}
